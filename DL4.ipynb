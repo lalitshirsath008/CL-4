{
  "nbformat": 4,
  "nbformat_minor": 0,
  "metadata": {
    "colab": {
      "provenance": []
    },
    "kernelspec": {
      "name": "python3",
      "display_name": "Python 3"
    },
    "language_info": {
      "name": "python"
    }
  },
  "cells": [
    {
      "cell_type": "code",
      "execution_count": 8,
      "metadata": {
        "id": "3XG7GCuqvCXp"
      },
      "outputs": [],
      "source": [
        "import tensorflow as tf\n",
        "from tensorflow.keras import  datasets,  layers, models\n",
        "from tensorflow.keras.optimizers import Adam\n",
        "from\ttensorflow.keras.preprocessing.image import\tImageDataGenerator\n",
        "from sklearn.model_selection import train_test_split\n",
        "import matplotlib.pyplot as plt\n"
      ]
    },
    {
      "cell_type": "code",
      "source": [
        "# Load and preprocess the MNIST dataset\n",
        "(train_images, train_labels), (test_images, test_labels) = datasets.mnist.load_data()\n",
        "train_images, test_images = train_images / 255.0, test_images / 255.0\n",
        "\n"
      ],
      "metadata": {
        "id": "UrfUP9KEvO7y",
        "colab": {
          "base_uri": "https://localhost:8080/"
        },
        "outputId": "81076241-788b-4d68-8c25-7d0d35aa5369"
      },
      "execution_count": 9,
      "outputs": [
        {
          "output_type": "stream",
          "name": "stdout",
          "text": [
            "Downloading data from https://storage.googleapis.com/tensorflow/tf-keras-datasets/mnist.npz\n",
            "11490434/11490434 [==============================] - 0s 0us/step\n"
          ]
        }
      ]
    },
    {
      "cell_type": "code",
      "source": [
        "# Add channel dimension to the images\n",
        "train_images = train_images.reshape((60000, 28, 28, 1))\n",
        "test_images = test_images.reshape((10000, 28, 28, 1))\n",
        "\n"
      ],
      "metadata": {
        "id": "iOf_qdLUyaRe"
      },
      "execution_count": 10,
      "outputs": []
    },
    {
      "cell_type": "code",
      "source": [
        "# Split the dataset into training and validation sets\n",
        "train_images, val_images, train_labels, val_labels = train_test_split( train_images, train_labels, test_size=0.1, random_state=42)\n"
      ],
      "metadata": {
        "id": "eY3eJB2aykeo"
      },
      "execution_count": 11,
      "outputs": []
    },
    {
      "cell_type": "code",
      "source": [
        "# Data augmentation for training images\n",
        "datagen\t=\tImageDataGenerator(rotation_range=10,\tzoom_range=0.1,\twidth_shift_range=0.1, height_shift_range=0.1)\n",
        "datagen.fit(train_images)\n"
      ],
      "metadata": {
        "id": "sNhaAt06ypBt"
      },
      "execution_count": 12,
      "outputs": []
    },
    {
      "cell_type": "code",
      "source": [
        "# Create a CNN model with hyperparameter tuning and regularization\n",
        "model = models.Sequential()\n",
        "model.add(layers.Conv2D(32, (3, 3), activation='relu', input_shape=(28, 28, 1)))\n",
        "model.add(layers.MaxPooling2D((2, 2)))\n",
        "model.add(layers.Conv2D(64, (3, 3), activation='relu'))\n",
        "model.add(layers.MaxPooling2D((2, 2)))\n",
        "model.add(layers.Conv2D(128, (3, 3), activation='relu'))\n",
        "model.add(layers.Flatten())\n",
        "model.add(layers.Dropout(0.5))\n",
        "model.add(layers.Dense(128,\tactivation='relu'))\n",
        "model.add(layers.Dense(10, activation='softmax'))\n"
      ],
      "metadata": {
        "id": "uhb3RkJ6ysqE"
      },
      "execution_count": 13,
      "outputs": []
    },
    {
      "cell_type": "code",
      "source": [
        "# Compile the model\n",
        "model.compile(optimizer=Adam(learning_rate=0.001),\tloss='sparse_categorical_crossentropy', metrics=['accuracy'])\n"
      ],
      "metadata": {
        "id": "rdQyzzmYyv-a"
      },
      "execution_count": 14,
      "outputs": []
    },
    {
      "cell_type": "code",
      "source": [
        "# Train the model with data augmentation\n",
        "history = model.fit(datagen.flow(train_images, train_labels, batch_size=64),\n",
        "epochs=20, validation_data=(val_images, val_labels))\n",
        "# Evaluate the model on the test set\n",
        "test_loss,\ttest_acc\t=\tmodel.evaluate(test_images,\ttest_labels)\n",
        "print(f\"Test Accuracy: {test_acc}\")\n"
      ],
      "metadata": {
        "colab": {
          "base_uri": "https://localhost:8080/"
        },
        "id": "Zjh8-S3ny_fG",
        "outputId": "0cf7f264-7e49-45b1-8586-7f22470a9cf4"
      },
      "execution_count": 15,
      "outputs": [
        {
          "output_type": "stream",
          "name": "stdout",
          "text": [
            "Epoch 1/20\n",
            "844/844 [==============================] - 66s 77ms/step - loss: 0.3751 - accuracy: 0.8794 - val_loss: 0.0654 - val_accuracy: 0.9803\n",
            "Epoch 2/20\n",
            "844/844 [==============================] - 64s 75ms/step - loss: 0.1301 - accuracy: 0.9594 - val_loss: 0.0405 - val_accuracy: 0.9872\n",
            "Epoch 3/20\n",
            "844/844 [==============================] - 64s 76ms/step - loss: 0.0952 - accuracy: 0.9708 - val_loss: 0.0345 - val_accuracy: 0.9902\n",
            "Epoch 4/20\n",
            "844/844 [==============================] - 64s 76ms/step - loss: 0.0793 - accuracy: 0.9752 - val_loss: 0.0311 - val_accuracy: 0.9898\n",
            "Epoch 5/20\n",
            "844/844 [==============================] - 63s 75ms/step - loss: 0.0703 - accuracy: 0.9784 - val_loss: 0.0371 - val_accuracy: 0.9890\n",
            "Epoch 6/20\n",
            "844/844 [==============================] - 63s 75ms/step - loss: 0.0637 - accuracy: 0.9803 - val_loss: 0.0325 - val_accuracy: 0.9910\n",
            "Epoch 7/20\n",
            "844/844 [==============================] - 64s 75ms/step - loss: 0.0589 - accuracy: 0.9819 - val_loss: 0.0278 - val_accuracy: 0.9918\n",
            "Epoch 8/20\n",
            "844/844 [==============================] - 63s 75ms/step - loss: 0.0539 - accuracy: 0.9834 - val_loss: 0.0242 - val_accuracy: 0.9930\n",
            "Epoch 9/20\n",
            "844/844 [==============================] - 63s 75ms/step - loss: 0.0522 - accuracy: 0.9841 - val_loss: 0.0270 - val_accuracy: 0.9912\n",
            "Epoch 10/20\n",
            "844/844 [==============================] - 64s 76ms/step - loss: 0.0481 - accuracy: 0.9854 - val_loss: 0.0306 - val_accuracy: 0.9912\n",
            "Epoch 11/20\n",
            "844/844 [==============================] - 64s 75ms/step - loss: 0.0450 - accuracy: 0.9864 - val_loss: 0.0210 - val_accuracy: 0.9943\n",
            "Epoch 12/20\n",
            "844/844 [==============================] - 63s 75ms/step - loss: 0.0415 - accuracy: 0.9873 - val_loss: 0.0321 - val_accuracy: 0.9912\n",
            "Epoch 13/20\n",
            "844/844 [==============================] - 63s 75ms/step - loss: 0.0420 - accuracy: 0.9877 - val_loss: 0.0197 - val_accuracy: 0.9945\n",
            "Epoch 14/20\n",
            "844/844 [==============================] - 63s 75ms/step - loss: 0.0394 - accuracy: 0.9877 - val_loss: 0.0280 - val_accuracy: 0.9925\n",
            "Epoch 15/20\n",
            "844/844 [==============================] - 63s 75ms/step - loss: 0.0394 - accuracy: 0.9882 - val_loss: 0.0311 - val_accuracy: 0.9920\n",
            "Epoch 16/20\n",
            "844/844 [==============================] - 63s 75ms/step - loss: 0.0375 - accuracy: 0.9887 - val_loss: 0.0219 - val_accuracy: 0.9933\n",
            "Epoch 17/20\n",
            "844/844 [==============================] - 63s 75ms/step - loss: 0.0361 - accuracy: 0.9894 - val_loss: 0.0311 - val_accuracy: 0.9923\n",
            "Epoch 18/20\n",
            "844/844 [==============================] - 63s 75ms/step - loss: 0.0379 - accuracy: 0.9887 - val_loss: 0.0293 - val_accuracy: 0.9912\n",
            "Epoch 19/20\n",
            "844/844 [==============================] - 63s 75ms/step - loss: 0.0347 - accuracy: 0.9892 - val_loss: 0.0240 - val_accuracy: 0.9930\n",
            "Epoch 20/20\n",
            "844/844 [==============================] - 63s 74ms/step - loss: 0.0339 - accuracy: 0.9898 - val_loss: 0.0199 - val_accuracy: 0.9942\n",
            "313/313 [==============================] - 3s 10ms/step - loss: 0.0189 - accuracy: 0.9938\n",
            "Test Accuracy: 0.9937999844551086\n"
          ]
        }
      ]
    },
    {
      "cell_type": "code",
      "source": [
        "# Plot training history\n",
        "plt.plot(history.history['accuracy'],\n",
        "label='Train\tAccuracy')\n",
        "plt.plot(history.history['val_accuracy'],\n",
        "label='Validation\tAccuracy')\n",
        "plt.xlabel('Epoch')\n",
        "plt.ylabel('Accuracy')\n",
        "plt.legend()\n",
        "plt.show()\n"
      ],
      "metadata": {
        "id": "xapzziGjzC_t",
        "colab": {
          "base_uri": "https://localhost:8080/",
          "height": 489
        },
        "outputId": "f1ba3800-d9fb-4eeb-d614-38d6cccd3e11"
      },
      "execution_count": 18,
      "outputs": [
        {
          "output_type": "stream",
          "name": "stderr",
          "text": [
            "/usr/local/lib/python3.10/dist-packages/IPython/core/pylabtools.py:151: UserWarning: Glyph 9 (\t) missing from current font.\n",
            "  fig.canvas.print_figure(bytes_io, **kw)\n"
          ]
        },
        {
          "output_type": "display_data",
          "data": {
            "text/plain": [
              "<Figure size 640x480 with 1 Axes>"
            ],
            "image/png": "[encoded data removed]"
          },
          "metadata": {}
        }
      ]
    },
    {
      "cell_type": "code",
      "source": [],
      "metadata": {
        "id": "F1A8Xphhr0Am"
      },
      "execution_count": null,
      "outputs": []
    }
  ]
}