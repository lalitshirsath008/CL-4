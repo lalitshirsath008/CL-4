{
 "cells": [
  {
   "cell_type": "code",
   "execution_count": 19,
   "id": "8e423609",
   "metadata": {},
   "outputs": [],
   "source": [
    "import numpy as np\n",
    "from tensorflow.keras.datasets import imdb\n",
    "from tensorflow.keras.models import Sequential\n",
    "from tensorflow.keras.layers import LSTM, Embedding, Dense\n",
    "from tensorflow.keras.preprocessing import sequence"
   ]
  },
  {
   "cell_type": "code",
   "execution_count": 20,
   "id": "4bcf0ce7",
   "metadata": {},
   "outputs": [],
   "source": [
    "max_features = 20000  \n",
    "maxlen = 80  \n"
   ]
  },
  {
   "cell_type": "code",
   "execution_count": 21,
   "id": "2a2f0ebd",
   "metadata": {},
   "outputs": [],
   "source": [
    "(X_train, y_train), (X_test, y_test) = imdb.load_data(num_words=max_features)\n",
    "X_train = sequence.pad_sequences(X_train, maxlen=maxlen)\n",
    "X_test = sequence.pad_sequences(X_test, maxlen=maxlen)"
   ]
  },
  {
   "cell_type": "code",
   "execution_count": 22,
   "id": "ed1fb413",
   "metadata": {},
   "outputs": [
    {
     "name": "stdout",
     "output_type": "stream",
     "text": [
      "WARNING:tensorflow:From C:\\Users\\jadha\\anaconda3\\Lib\\site-packages\\keras\\src\\backend.py:873: The name tf.get_default_graph is deprecated. Please use tf.compat.v1.get_default_graph instead.\n",
      "\n"
     ]
    }
   ],
   "source": [
    "model = Sequential()\n",
    "model.add(Embedding(max_features, 128))\n",
    "model.add(LSTM(128, dropout=0.2, recurrent_dropout=0.2))\n",
    "model.add(Dense(1, activation='sigmoid'))"
   ]
  },
  {
   "cell_type": "code",
   "execution_count": 23,
   "id": "9903c03e",
   "metadata": {},
   "outputs": [
    {
     "name": "stdout",
     "output_type": "stream",
     "text": [
      "WARNING:tensorflow:From C:\\Users\\jadha\\anaconda3\\Lib\\site-packages\\keras\\src\\optimizers\\__init__.py:309: The name tf.train.Optimizer is deprecated. Please use tf.compat.v1.train.Optimizer instead.\n",
      "\n"
     ]
    }
   ],
   "source": [
    "model.compile(loss='binary_crossentropy', optimizer='adam', metrics=['accuracy'])\n"
   ]
  },
  {
   "cell_type": "code",
   "execution_count": 24,
   "id": "2662c288",
   "metadata": {},
   "outputs": [
    {
     "name": "stdout",
     "output_type": "stream",
     "text": [
      "Epoch 1/5\n",
      "WARNING:tensorflow:From C:\\Users\\jadha\\anaconda3\\Lib\\site-packages\\keras\\src\\utils\\tf_utils.py:492: The name tf.ragged.RaggedTensorValue is deprecated. Please use tf.compat.v1.ragged.RaggedTensorValue instead.\n",
      "\n",
      "WARNING:tensorflow:From C:\\Users\\jadha\\anaconda3\\Lib\\site-packages\\keras\\src\\engine\\base_layer_utils.py:384: The name tf.executing_eagerly_outside_functions is deprecated. Please use tf.compat.v1.executing_eagerly_outside_functions instead.\n",
      "\n",
      "782/782 [==============================] - 100s 124ms/step - loss: 0.4301 - accuracy: 0.7971 - val_loss: 0.3654 - val_accuracy: 0.8358\n",
      "Epoch 2/5\n",
      "782/782 [==============================] - 97s 125ms/step - loss: 0.2607 - accuracy: 0.8959 - val_loss: 0.3703 - val_accuracy: 0.8393\n",
      "Epoch 3/5\n",
      "782/782 [==============================] - 104s 133ms/step - loss: 0.1679 - accuracy: 0.9357 - val_loss: 0.4744 - val_accuracy: 0.8272\n",
      "Epoch 4/5\n",
      "782/782 [==============================] - 102s 131ms/step - loss: 0.1068 - accuracy: 0.9614 - val_loss: 0.5236 - val_accuracy: 0.8202\n",
      "Epoch 5/5\n",
      "782/782 [==============================] - 101s 129ms/step - loss: 0.0755 - accuracy: 0.9745 - val_loss: 0.6579 - val_accuracy: 0.8251\n"
     ]
    },
    {
     "data": {
      "text/plain": [
       "<keras.src.callbacks.History at 0x237292a1b10>"
      ]
     },
     "execution_count": 24,
     "metadata": {},
     "output_type": "execute_result"
    }
   ],
   "source": [
    "model.fit(X_train, y_train, batch_size=32, epochs=5, validation_data=(X_test, y_test))\n"
   ]
  },
  {
   "cell_type": "code",
   "execution_count": 25,
   "id": "267f9fb2",
   "metadata": {},
   "outputs": [],
   "source": [
    "def preprocess_review(review_text):\n",
    "    word_to_index = imdb.get_word_index()\n",
    "    words = review_text.lower().split()\n",
    "    review_sequence = [word_to_index[word] if word in word_to_index and word_to_index[word] < max_features else 0 for word in words]\n",
    "    padded_sequence = sequence.pad_sequences([review_sequence], maxlen=maxlen)\n",
    "    return padded_sequence"
   ]
  },
  {
   "cell_type": "code",
   "execution_count": 26,
   "id": "ff3f88eb",
   "metadata": {},
   "outputs": [],
   "source": [
    "def predict_sentiment(review_sequence):\n",
    "    sentiment_score = model.predict(review_sequence)\n",
    "    return sentiment_score[0][0]"
   ]
  },
  {
   "cell_type": "code",
   "execution_count": 31,
   "id": "a65a5584",
   "metadata": {},
   "outputs": [
    {
     "name": "stdout",
     "output_type": "stream",
     "text": [
      "Enter reviewthis is not good \n"
     ]
    }
   ],
   "source": [
    "new_review = input(\"Enter review\")\n",
    "\n"
   ]
  },
  {
   "cell_type": "code",
   "execution_count": 32,
   "id": "e2e38464",
   "metadata": {},
   "outputs": [],
   "source": [
    "preprocessed_review = preprocess_review(new_review)\n"
   ]
  },
  {
   "cell_type": "code",
   "execution_count": 33,
   "id": "df443a9a",
   "metadata": {},
   "outputs": [
    {
     "name": "stdout",
     "output_type": "stream",
     "text": [
      "1/1 [==============================] - 0s 47ms/step\n"
     ]
    }
   ],
   "source": [
    "sentiment_score = predict_sentiment(preprocessed_review)\n"
   ]
  },
  {
   "cell_type": "code",
   "execution_count": 34,
   "id": "03e94472",
   "metadata": {},
   "outputs": [
    {
     "name": "stdout",
     "output_type": "stream",
     "text": [
      "Negative sentiment\n"
     ]
    }
   ],
   "source": [
    "if sentiment_score > 0.5:\n",
    "    print(\"Positive sentiment\")\n",
    "else:\n",
    "    print(\"Negative sentiment\")"
   ]
  },
  {
   "cell_type": "code",
   "execution_count": null,
   "id": "f90d0b50",
   "metadata": {},
   "outputs": [],
   "source": []
  }
 ],
 "metadata": {
  "kernelspec": {
   "display_name": "Python 3 (ipykernel)",
   "language": "python",
   "name": "python3"
  },
  "language_info": {
   "codemirror_mode": {
    "name": "ipython",
    "version": 3
   },
   "file_extension": ".py",
   "mimetype": "text/x-python",
   "name": "python",
   "nbconvert_exporter": "python",
   "pygments_lexer": "ipython3",
   "version": "3.11.5"
  }
 },
 "nbformat": 4,
 "nbformat_minor": 5
}
