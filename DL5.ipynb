{
  "nbformat": 4,
  "nbformat_minor": 0,
  "metadata": {
    "colab": {
      "provenance": []
    },
    "kernelspec": {
      "name": "python3",
      "display_name": "Python 3"
    },
    "language_info": {
      "name": "python"
    }
  },
  "cells": [
    {
      "cell_type": "code",
      "execution_count": 3,
      "metadata": {
        "id": "v8e8Wp9umV51"
      },
      "outputs": [],
      "source": [
        "from keras.models import Model\n",
        "from keras.layers import Input,Dense\n",
        "import numpy as np\n",
        "import pandas as pd\n",
        "import keras.backend as K\n",
        "import matplotlib.pyplot as plt\n",
        "from keras import preprocessing\n",
        "from keras.models import Sequential\n",
        "from keras.layers import Conv2D,Dropout,Dense,Flatten,Conv2DTranspose,BatchNormalization,LeakyReLU,Reshape\n",
        "import tensorflow as tf\n",
        "from keras.layers import *\n",
        "from keras.datasets import fashion_mnist\n"
      ]
    },
    {
      "cell_type": "code",
      "source": [
        "(train_x, train_y), (val_x, val_y) = fashion_mnist.load_data()\n",
        "train_x = train_x/255."
      ],
      "metadata": {
        "colab": {
          "base_uri": "https://localhost:8080/"
        },
        "id": "5fki1Nmimjz5",
        "outputId": "fdf94659-030e-4ec3-c7c3-cd1a74f99987"
      },
      "execution_count": 4,
      "outputs": [
        {
          "output_type": "stream",
          "name": "stdout",
          "text": [
            "Downloading data from https://storage.googleapis.com/tensorflow/tf-keras-datasets/train-labels-idx1-ubyte.gz\n",
            "29515/29515 [==============================] - 0s 0us/step\n",
            "Downloading data from https://storage.googleapis.com/tensorflow/tf-keras-datasets/train-images-idx3-ubyte.gz\n",
            "26421880/26421880 [==============================] - 0s 0us/step\n",
            "Downloading data from https://storage.googleapis.com/tensorflow/tf-keras-datasets/t10k-labels-idx1-ubyte.gz\n",
            "5148/5148 [==============================] - 0s 0us/step\n",
            "Downloading data from https://storage.googleapis.com/tensorflow/tf-keras-datasets/t10k-images-idx3-ubyte.gz\n",
            "4422102/4422102 [==============================] - 0s 0us/step\n"
          ]
        }
      ]
    },
    {
      "cell_type": "code",
      "source": [
        "val_x = val_x/255.\n",
        "train_x=train_x.reshape(-1,28,28,1)\n",
        "print(train_x.shape)\n",
        "#train_x = train_x.reshape(-1, 784) #val_x = val_x.reshape(-1, 784)\n"
      ],
      "metadata": {
        "colab": {
          "base_uri": "https://localhost:8080/"
        },
        "id": "inyl8arxnFRI",
        "outputId": "6cbe8075-2ed9-4c95-cc3b-1d5aa76db251"
      },
      "execution_count": 6,
      "outputs": [
        {
          "output_type": "stream",
          "name": "stdout",
          "text": [
            "(60000, 28, 28, 1)\n"
          ]
        }
      ]
    },
    {
      "cell_type": "code",
      "source": [
        "fig,axe=plt.subplots(2,2)\n",
        "idx = 0\n",
        "for i in range(2):\n",
        "  for j in range(2):\n",
        "    axe[i,j].imshow(train_x[idx].reshape(28,28),cmap='gray')\n",
        "    idx+=1\n",
        "    train_x = train_x*2 - 1\n",
        "print(train_x.max(),train_x.min())\n"
      ],
      "metadata": {
        "colab": {
          "base_uri": "https://localhost:8080/",
          "height": 449
        },
        "id": "pDGnwPelnMne",
        "outputId": "5275c4ba-9aa9-470b-f65c-0a887496d4a9"
      },
      "execution_count": 8,
      "outputs": [
        {
          "output_type": "stream",
          "name": "stdout",
          "text": [
            "1.0 -15.0\n"
          ]
        },
        {
          "output_type": "display_data",
          "data": {
            "text/plain": [
              "<Figure size 640x480 with 4 Axes>"
            ],
            "image/png": "[encoded data removed]"
          },
          "metadata": {}
        }
      ]
    },
    {
      "cell_type": "code",
      "source": [
        "generator = Sequential()\n",
        "generator.add(Dense(512,input_shape=[100]))\n",
        "generator.add(LeakyReLU(alpha=0.2))\n",
        "generator.add(BatchNormalization(momentum=0.8))\n",
        "generator.add(Dense(256))\n",
        "generator.add(LeakyReLU(alpha=0.2))\n",
        "generator.add(BatchNormalization(momentum=0.8))\n",
        "generator.add(Dense(128))\n",
        "generator.add(LeakyReLU(alpha=0.2))\n",
        "generator.add(BatchNormalization(momentum=0.8))\n",
        "generator.add(Dense(784))\n",
        "generator.add(Reshape([28,28,1]))\n",
        "generator.summary()\n"
      ],
      "metadata": {
        "colab": {
          "base_uri": "https://localhost:8080/"
        },
        "id": "bD7vP5xUncHz",
        "outputId": "57422f38-2715-4f99-faf5-73518599d036"
      },
      "execution_count": 9,
      "outputs": [
        {
          "output_type": "stream",
          "name": "stdout",
          "text": [
            "Model: \"sequential\"\n",
            "_________________________________________________________________\n",
            " Layer (type)                Output Shape              Param #   \n",
            "=================================================================\n",
            " dense (Dense)               (None, 512)               51712     \n",
            "                                                                 \n",
            " leaky_re_lu (LeakyReLU)     (None, 512)               0         \n",
            "                                                                 \n",
            " batch_normalization (Batch  (None, 512)               2048      \n",
            " Normalization)                                                  \n",
            "                                                                 \n",
            " dense_1 (Dense)             (None, 256)               131328    \n",
            "                                                                 \n",
            " leaky_re_lu_1 (LeakyReLU)   (None, 256)               0         \n",
            "                                                                 \n",
            " batch_normalization_1 (Bat  (None, 256)               1024      \n",
            " chNormalization)                                                \n",
            "                                                                 \n",
            " dense_2 (Dense)             (None, 128)               32896     \n",
            "                                                                 \n",
            " leaky_re_lu_2 (LeakyReLU)   (None, 128)               0         \n",
            "                                                                 \n",
            " batch_normalization_2 (Bat  (None, 128)               512       \n",
            " chNormalization)                                                \n",
            "                                                                 \n",
            " dense_3 (Dense)             (None, 784)               101136    \n",
            "                                                                 \n",
            " reshape (Reshape)           (None, 28, 28, 1)         0         \n",
            "                                                                 \n",
            "=================================================================\n",
            "Total params: 320656 (1.22 MB)\n",
            "Trainable params: 318864 (1.22 MB)\n",
            "Non-trainable params: 1792 (7.00 KB)\n",
            "_________________________________________________________________\n"
          ]
        }
      ]
    },
    {
      "cell_type": "code",
      "source": [
        "discriminator = Sequential()\n",
        "discriminator.add(Dense(1,input_shape=[28,28,1]))\n",
        "discriminator.add(Flatten())\n",
        "discriminator.add(Dense(256))\n",
        "discriminator.add(LeakyReLU(alpha=0.2))\n",
        "discriminator.add(Dropout(0.5))\n",
        "discriminator.add(Dense(128))\n",
        "discriminator.add(LeakyReLU(alpha=0.2))\n",
        "discriminator.add(Dropout(0.5))\n",
        "discriminator.add(Dense(64))\n",
        "discriminator.add(LeakyReLU(alpha=0.2))\n",
        "discriminator.add(Dropout(0.5))\n",
        "discriminator.add(Dense(1,activation='sigmoid'))\n",
        "discriminator.summary()"
      ],
      "metadata": {
        "colab": {
          "base_uri": "https://localhost:8080/"
        },
        "id": "a9gBMUijn22X",
        "outputId": "116d7e57-d174-4c3b-c6ae-afe47c0e1e6f"
      },
      "execution_count": 10,
      "outputs": [
        {
          "output_type": "stream",
          "name": "stdout",
          "text": [
            "Model: \"sequential_1\"\n",
            "_________________________________________________________________\n",
            " Layer (type)                Output Shape              Param #   \n",
            "=================================================================\n",
            " dense_4 (Dense)             (None, 28, 28, 1)         2         \n",
            "                                                                 \n",
            " flatten (Flatten)           (None, 784)               0         \n",
            "                                                                 \n",
            " dense_5 (Dense)             (None, 256)               200960    \n",
            "                                                                 \n",
            " leaky_re_lu_3 (LeakyReLU)   (None, 256)               0         \n",
            "                                                                 \n",
            " dropout (Dropout)           (None, 256)               0         \n",
            "                                                                 \n",
            " dense_6 (Dense)             (None, 128)               32896     \n",
            "                                                                 \n",
            " leaky_re_lu_4 (LeakyReLU)   (None, 128)               0         \n",
            "                                                                 \n",
            " dropout_1 (Dropout)         (None, 128)               0         \n",
            "                                                                 \n",
            " dense_7 (Dense)             (None, 64)                8256      \n",
            "                                                                 \n",
            " leaky_re_lu_5 (LeakyReLU)   (None, 64)                0         \n",
            "                                                                 \n",
            " dropout_2 (Dropout)         (None, 64)                0         \n",
            "                                                                 \n",
            " dense_8 (Dense)             (None, 1)                 65        \n",
            "                                                                 \n",
            "=================================================================\n",
            "Total params: 242179 (946.01 KB)\n",
            "Trainable params: 242179 (946.01 KB)\n",
            "Non-trainable params: 0 (0.00 Byte)\n",
            "_________________________________________________________________\n"
          ]
        }
      ]
    },
    {
      "cell_type": "code",
      "source": [
        "GAN =Sequential([generator,discriminator])\n",
        "discriminator.compile(optimizer='adam',loss='binary_crossentropy')\n",
        "discriminator.trainable = False\n",
        "GAN.compile(optimizer='adam',loss='binary_crossentropy')\n",
        "GAN.summary()\n",
        "epochs = 30\n",
        "batch_size = 100\n",
        "noise_shape=100\n",
        "with tf.device('/gpu:0'):\n",
        "  for epoch in range(epochs):\n",
        "    print(f\"Currently on Epoch {epoch+1}\")\n",
        "    for i in range(train_x.shape[0]//batch_size):\n",
        "        if (i+1)%100 == 0:\n",
        "              print(f\"\\tCurrently on batch number {i+1} of {train_x.shape[0]//batch_size}\")\n",
        "              noise=np.random.normal(size=[batch_size,noise_shape])\n",
        "              gen_image = generator.predict_on_batch(noise)\n",
        "              train_dataset = train_x[i*batch_size:(i+1)*batch_size]\n"
      ],
      "metadata": {
        "colab": {
          "base_uri": "https://localhost:8080/"
        },
        "id": "GiSaM41yoGiw",
        "outputId": "1441afe8-b638-49e8-b756-bd1967e7fa82"
      },
      "execution_count": 11,
      "outputs": [
        {
          "output_type": "stream",
          "name": "stdout",
          "text": [
            "Model: \"sequential_2\"\n",
            "_________________________________________________________________\n",
            " Layer (type)                Output Shape              Param #   \n",
            "=================================================================\n",
            " sequential (Sequential)     (None, 28, 28, 1)         320656    \n",
            "                                                                 \n",
            " sequential_1 (Sequential)   (None, 1)                 242179    \n",
            "                                                                 \n",
            "=================================================================\n",
            "Total params: 562835 (2.15 MB)\n",
            "Trainable params: 318864 (1.22 MB)\n",
            "Non-trainable params: 243971 (953.01 KB)\n",
            "_________________________________________________________________\n",
            "Currently on Epoch 1\n",
            "\tCurrently on batch number 100 of 600\n",
            "\tCurrently on batch number 200 of 600\n",
            "\tCurrently on batch number 300 of 600\n",
            "\tCurrently on batch number 400 of 600\n",
            "\tCurrently on batch number 500 of 600\n",
            "\tCurrently on batch number 600 of 600\n",
            "Currently on Epoch 2\n",
            "\tCurrently on batch number 100 of 600\n",
            "\tCurrently on batch number 200 of 600\n",
            "\tCurrently on batch number 300 of 600\n",
            "\tCurrently on batch number 400 of 600\n",
            "\tCurrently on batch number 500 of 600\n",
            "\tCurrently on batch number 600 of 600\n",
            "Currently on Epoch 3\n",
            "\tCurrently on batch number 100 of 600\n",
            "\tCurrently on batch number 200 of 600\n",
            "\tCurrently on batch number 300 of 600\n",
            "\tCurrently on batch number 400 of 600\n",
            "\tCurrently on batch number 500 of 600\n",
            "\tCurrently on batch number 600 of 600\n",
            "Currently on Epoch 4\n",
            "\tCurrently on batch number 100 of 600\n",
            "\tCurrently on batch number 200 of 600\n",
            "\tCurrently on batch number 300 of 600\n",
            "\tCurrently on batch number 400 of 600\n",
            "\tCurrently on batch number 500 of 600\n",
            "\tCurrently on batch number 600 of 600\n",
            "Currently on Epoch 5\n",
            "\tCurrently on batch number 100 of 600\n",
            "\tCurrently on batch number 200 of 600\n",
            "\tCurrently on batch number 300 of 600\n",
            "\tCurrently on batch number 400 of 600\n",
            "\tCurrently on batch number 500 of 600\n",
            "\tCurrently on batch number 600 of 600\n",
            "Currently on Epoch 6\n",
            "\tCurrently on batch number 100 of 600\n",
            "\tCurrently on batch number 200 of 600\n",
            "\tCurrently on batch number 300 of 600\n",
            "\tCurrently on batch number 400 of 600\n",
            "\tCurrently on batch number 500 of 600\n",
            "\tCurrently on batch number 600 of 600\n",
            "Currently on Epoch 7\n",
            "\tCurrently on batch number 100 of 600\n",
            "\tCurrently on batch number 200 of 600\n",
            "\tCurrently on batch number 300 of 600\n",
            "\tCurrently on batch number 400 of 600\n",
            "\tCurrently on batch number 500 of 600\n",
            "\tCurrently on batch number 600 of 600\n",
            "Currently on Epoch 8\n",
            "\tCurrently on batch number 100 of 600\n",
            "\tCurrently on batch number 200 of 600\n",
            "\tCurrently on batch number 300 of 600\n",
            "\tCurrently on batch number 400 of 600\n",
            "\tCurrently on batch number 500 of 600\n",
            "\tCurrently on batch number 600 of 600\n",
            "Currently on Epoch 9\n",
            "\tCurrently on batch number 100 of 600\n",
            "\tCurrently on batch number 200 of 600\n",
            "\tCurrently on batch number 300 of 600\n",
            "\tCurrently on batch number 400 of 600\n",
            "\tCurrently on batch number 500 of 600\n",
            "\tCurrently on batch number 600 of 600\n",
            "Currently on Epoch 10\n",
            "\tCurrently on batch number 100 of 600\n",
            "\tCurrently on batch number 200 of 600\n",
            "\tCurrently on batch number 300 of 600\n",
            "\tCurrently on batch number 400 of 600\n",
            "\tCurrently on batch number 500 of 600\n",
            "\tCurrently on batch number 600 of 600\n",
            "Currently on Epoch 11\n",
            "\tCurrently on batch number 100 of 600\n",
            "\tCurrently on batch number 200 of 600\n",
            "\tCurrently on batch number 300 of 600\n",
            "\tCurrently on batch number 400 of 600\n",
            "\tCurrently on batch number 500 of 600\n",
            "\tCurrently on batch number 600 of 600\n",
            "Currently on Epoch 12\n",
            "\tCurrently on batch number 100 of 600\n",
            "\tCurrently on batch number 200 of 600\n",
            "\tCurrently on batch number 300 of 600\n",
            "\tCurrently on batch number 400 of 600\n",
            "\tCurrently on batch number 500 of 600\n",
            "\tCurrently on batch number 600 of 600\n",
            "Currently on Epoch 13\n",
            "\tCurrently on batch number 100 of 600\n",
            "\tCurrently on batch number 200 of 600\n",
            "\tCurrently on batch number 300 of 600\n",
            "\tCurrently on batch number 400 of 600\n",
            "\tCurrently on batch number 500 of 600\n",
            "\tCurrently on batch number 600 of 600\n",
            "Currently on Epoch 14\n",
            "\tCurrently on batch number 100 of 600\n",
            "\tCurrently on batch number 200 of 600\n",
            "\tCurrently on batch number 300 of 600\n",
            "\tCurrently on batch number 400 of 600\n",
            "\tCurrently on batch number 500 of 600\n",
            "\tCurrently on batch number 600 of 600\n",
            "Currently on Epoch 15\n",
            "\tCurrently on batch number 100 of 600\n",
            "\tCurrently on batch number 200 of 600\n",
            "\tCurrently on batch number 300 of 600\n",
            "\tCurrently on batch number 400 of 600\n",
            "\tCurrently on batch number 500 of 600\n",
            "\tCurrently on batch number 600 of 600\n",
            "Currently on Epoch 16\n",
            "\tCurrently on batch number 100 of 600\n",
            "\tCurrently on batch number 200 of 600\n",
            "\tCurrently on batch number 300 of 600\n",
            "\tCurrently on batch number 400 of 600\n",
            "\tCurrently on batch number 500 of 600\n",
            "\tCurrently on batch number 600 of 600\n",
            "Currently on Epoch 17\n",
            "\tCurrently on batch number 100 of 600\n",
            "\tCurrently on batch number 200 of 600\n",
            "\tCurrently on batch number 300 of 600\n",
            "\tCurrently on batch number 400 of 600\n",
            "\tCurrently on batch number 500 of 600\n",
            "\tCurrently on batch number 600 of 600\n",
            "Currently on Epoch 18\n",
            "\tCurrently on batch number 100 of 600\n",
            "\tCurrently on batch number 200 of 600\n",
            "\tCurrently on batch number 300 of 600\n",
            "\tCurrently on batch number 400 of 600\n",
            "\tCurrently on batch number 500 of 600\n",
            "\tCurrently on batch number 600 of 600\n",
            "Currently on Epoch 19\n",
            "\tCurrently on batch number 100 of 600\n",
            "\tCurrently on batch number 200 of 600\n",
            "\tCurrently on batch number 300 of 600\n",
            "\tCurrently on batch number 400 of 600\n",
            "\tCurrently on batch number 500 of 600\n",
            "\tCurrently on batch number 600 of 600\n",
            "Currently on Epoch 20\n",
            "\tCurrently on batch number 100 of 600\n",
            "\tCurrently on batch number 200 of 600\n",
            "\tCurrently on batch number 300 of 600\n",
            "\tCurrently on batch number 400 of 600\n",
            "\tCurrently on batch number 500 of 600\n",
            "\tCurrently on batch number 600 of 600\n",
            "Currently on Epoch 21\n",
            "\tCurrently on batch number 100 of 600\n",
            "\tCurrently on batch number 200 of 600\n",
            "\tCurrently on batch number 300 of 600\n",
            "\tCurrently on batch number 400 of 600\n",
            "\tCurrently on batch number 500 of 600\n",
            "\tCurrently on batch number 600 of 600\n",
            "Currently on Epoch 22\n",
            "\tCurrently on batch number 100 of 600\n",
            "\tCurrently on batch number 200 of 600\n",
            "\tCurrently on batch number 300 of 600\n",
            "\tCurrently on batch number 400 of 600\n",
            "\tCurrently on batch number 500 of 600\n",
            "\tCurrently on batch number 600 of 600\n",
            "Currently on Epoch 23\n",
            "\tCurrently on batch number 100 of 600\n",
            "\tCurrently on batch number 200 of 600\n",
            "\tCurrently on batch number 300 of 600\n",
            "\tCurrently on batch number 400 of 600\n",
            "\tCurrently on batch number 500 of 600\n",
            "\tCurrently on batch number 600 of 600\n",
            "Currently on Epoch 24\n",
            "\tCurrently on batch number 100 of 600\n",
            "\tCurrently on batch number 200 of 600\n",
            "\tCurrently on batch number 300 of 600\n",
            "\tCurrently on batch number 400 of 600\n",
            "\tCurrently on batch number 500 of 600\n",
            "\tCurrently on batch number 600 of 600\n",
            "Currently on Epoch 25\n",
            "\tCurrently on batch number 100 of 600\n",
            "\tCurrently on batch number 200 of 600\n",
            "\tCurrently on batch number 300 of 600\n",
            "\tCurrently on batch number 400 of 600\n",
            "\tCurrently on batch number 500 of 600\n",
            "\tCurrently on batch number 600 of 600\n",
            "Currently on Epoch 26\n",
            "\tCurrently on batch number 100 of 600\n",
            "\tCurrently on batch number 200 of 600\n",
            "\tCurrently on batch number 300 of 600\n",
            "\tCurrently on batch number 400 of 600\n",
            "\tCurrently on batch number 500 of 600\n",
            "\tCurrently on batch number 600 of 600\n",
            "Currently on Epoch 27\n",
            "\tCurrently on batch number 100 of 600\n",
            "\tCurrently on batch number 200 of 600\n",
            "\tCurrently on batch number 300 of 600\n",
            "\tCurrently on batch number 400 of 600\n",
            "\tCurrently on batch number 500 of 600\n",
            "\tCurrently on batch number 600 of 600\n",
            "Currently on Epoch 28\n",
            "\tCurrently on batch number 100 of 600\n",
            "\tCurrently on batch number 200 of 600\n",
            "\tCurrently on batch number 300 of 600\n",
            "\tCurrently on batch number 400 of 600\n",
            "\tCurrently on batch number 500 of 600\n",
            "\tCurrently on batch number 600 of 600\n",
            "Currently on Epoch 29\n",
            "\tCurrently on batch number 100 of 600\n",
            "\tCurrently on batch number 200 of 600\n",
            "\tCurrently on batch number 300 of 600\n",
            "\tCurrently on batch number 400 of 600\n",
            "\tCurrently on batch number 500 of 600\n",
            "\tCurrently on batch number 600 of 600\n",
            "Currently on Epoch 30\n",
            "\tCurrently on batch number 100 of 600\n",
            "\tCurrently on batch number 200 of 600\n",
            "\tCurrently on batch number 300 of 600\n",
            "\tCurrently on batch number 400 of 600\n",
            "\tCurrently on batch number 500 of 600\n",
            "\tCurrently on batch number 600 of 600\n"
          ]
        }
      ]
    },
    {
      "cell_type": "code",
      "source": [
        "#training discriminator on real images\n",
        "train_label=np.ones(shape=(batch_size,1))\n",
        "#train_label=np.ones((batch_size, 1))\n",
        "discriminator.trainable = True\n",
        "#train_dataset=train_x[idx]\n",
        "d_loss_real=discriminator.train_on_batch(train_dataset,train_label)\n",
        "#training discriminator on fake images\n",
        "train_label=np.zeros(shape=(batch_size,1))\n",
        "d_loss_fake=discriminator.train_on_batch(gen_image,train_label)\n",
        "\n"
      ],
      "metadata": {
        "id": "KNz5uH1Wombq"
      },
      "execution_count": 12,
      "outputs": []
    },
    {
      "cell_type": "code",
      "source": [
        "#training generator\n",
        "noise=np.random.normal(size=[batch_size,noise_shape])\n",
        "train_label=np.ones(shape=(batch_size,1))\n",
        "discriminator.trainable = False\n",
        "d_g_loss_batch =GAN.train_on_batch(noise, train_label)\n",
        "\n"
      ],
      "metadata": {
        "id": "gbQRwNDHo0VV"
      },
      "execution_count": 13,
      "outputs": []
    },
    {
      "cell_type": "code",
      "source": [
        "#plotting generated images at the start and then after every 10 epoch\n",
        "if epoch% 10 == 0:\n",
        "  samples = 10\n",
        "  x_fake = generator.predict(np.random.normal(loc=0, scale=1, size=(samples, 100)))\n",
        "  for k in range(samples):\n",
        "      plt.subplot(2, 5, k+1)\n",
        "      plt.imshow(x_fake[k].reshape(28, 28), cmap='gray')\n",
        "      plt.xticks([])\n",
        "      plt.yticks([])\n",
        "      plt.tight_layout()\n",
        "      plt.show()\n",
        "\n"
      ],
      "metadata": {
        "id": "FaKalKASo6Tx"
      },
      "execution_count": 15,
      "outputs": []
    },
    {
      "cell_type": "code",
      "source": [
        "print('Training is complete')\n",
        "noise=np.random.normal(size=[10,noise_shape])\n",
        "gen_image= generator.predict(noise)\n",
        "plt.imshow(noise)\n",
        "plt.title('How the noise looks')\n",
        "fig,axe=plt.subplots(2,5)\n",
        "fig.suptitle('Generated Images from Noise using GANs')\n",
        "idx=0\n",
        "for i in range(2):\n",
        "  for j in range(5):\n",
        "    axe[i,j].imshow(gen_image[idx].reshape(28,28),cmap='gray')\n",
        "    idx+=1\n",
        "\n"
      ],
      "metadata": {
        "colab": {
          "base_uri": "https://localhost:8080/",
          "height": 587
        },
        "id": "yfwb7S_npTFc",
        "outputId": "25545bcc-8f30-485d-8c51-76a508dc404e"
      },
      "execution_count": 16,
      "outputs": [
        {
          "output_type": "stream",
          "name": "stdout",
          "text": [
            "Training is complete\n",
            "1/1 [==============================] - 0s 326ms/step\n"
          ]
        },
        {
          "output_type": "display_data",
          "data": {
            "text/plain": [
              "<Figure size 640x480 with 1 Axes>"
            ],
            "image/png": "[encoded data removed]"
          },
          "metadata": {}
        },
        {
          "output_type": "display_data",
          "data": {
            "text/plain": [
              "<Figure size 640x480 with 10 Axes>"
            ],
            "image/png": "[encoded data removed]"
          },
          "metadata": {}
        }
      ]
    },
    {
      "cell_type": "code",
      "source": [],
      "metadata": {
        "id": "GOZCjQk5ptV5"
      },
      "execution_count": null,
      "outputs": []
    }
  ]
}